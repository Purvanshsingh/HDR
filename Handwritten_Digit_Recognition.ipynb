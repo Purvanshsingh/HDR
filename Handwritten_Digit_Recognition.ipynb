{
  "nbformat": 4,
  "nbformat_minor": 0,
  "metadata": {
    "colab": {
      "name": "Handwritten Digit Recognition.ipynb",
      "provenance": [],
      "collapsed_sections": [],
      "authorship_tag": "ABX9TyNaCgmIv3gqKXUx8AcOpj2c",
      "include_colab_link": true
    },
    "kernelspec": {
      "name": "python3",
      "display_name": "Python 3"
    },
    "accelerator": "GPU"
  },
  "cells": [
    {
      "cell_type": "markdown",
      "metadata": {
        "id": "view-in-github",
        "colab_type": "text"
      },
      "source": [
        "<a href=\"https://colab.research.google.com/github/Purvanshsingh/HDR/blob/master/Handwritten_Digit_Recognition.ipynb\" target=\"_parent\"><img src=\"https://colab.research.google.com/assets/colab-badge.svg\" alt=\"Open In Colab\"/></a>"
      ]
    },
    {
      "cell_type": "code",
      "metadata": {
        "id": "oz7ixJjheD5U"
      },
      "source": [
        "import tensorflow as tf\n",
        "import matplotlib.pyplot as plt\n",
        "import seaborn as sns\n",
        "import pandas as pd\n",
        "import numpy as np"
      ],
      "execution_count": 87,
      "outputs": []
    },
    {
      "cell_type": "code",
      "metadata": {
        "id": "5M_-hCVpwUiV"
      },
      "source": [
        ""
      ],
      "execution_count": null,
      "outputs": []
    },
    {
      "cell_type": "code",
      "metadata": {
        "colab": {
          "base_uri": "https://localhost:8080/",
          "height": 35
        },
        "id": "TNmRj8CteyIp",
        "outputId": "4ac6db5a-a1f4-40ed-bcf4-e0a4cfb9edc1"
      },
      "source": [
        "tf.__version__"
      ],
      "execution_count": 67,
      "outputs": [
        {
          "output_type": "execute_result",
          "data": {
            "application/vnd.google.colaboratory.intrinsic+json": {
              "type": "string"
            },
            "text/plain": [
              "'2.3.0'"
            ]
          },
          "metadata": {
            "tags": []
          },
          "execution_count": 67
        }
      ]
    },
    {
      "cell_type": "code",
      "metadata": {
        "colab": {
          "base_uri": "https://localhost:8080/",
          "height": 35
        },
        "id": "aixYGv6CfJ72",
        "outputId": "2d98074a-70aa-4c9b-d359-bfa1ee2384ba"
      },
      "source": [
        "tf.keras.__version__"
      ],
      "execution_count": 68,
      "outputs": [
        {
          "output_type": "execute_result",
          "data": {
            "application/vnd.google.colaboratory.intrinsic+json": {
              "type": "string"
            },
            "text/plain": [
              "'2.4.0'"
            ]
          },
          "metadata": {
            "tags": []
          },
          "execution_count": 68
        }
      ]
    },
    {
      "cell_type": "code",
      "metadata": {
        "colab": {
          "base_uri": "https://localhost:8080/"
        },
        "id": "cdvh6nr_e5fS",
        "outputId": "59d2fc18-da10-4910-9dab-95ef2c445491"
      },
      "source": [
        "\"\"\"\n",
        "Loading the open-source mnist Dataset\n",
        "\"\"\"\n",
        "data = tf.keras.datasets.mnist\n",
        "(X_train_full, y_train_full), (X_test, y_test) = data.load_data()"
      ],
      "execution_count": 7,
      "outputs": [
        {
          "output_type": "stream",
          "text": [
            "Downloading data from https://storage.googleapis.com/tensorflow/tf-keras-datasets/mnist.npz\n",
            "11493376/11490434 [==============================] - 0s 0us/step\n"
          ],
          "name": "stdout"
        }
      ]
    },
    {
      "cell_type": "code",
      "metadata": {
        "colab": {
          "base_uri": "https://localhost:8080/"
        },
        "id": "FYnSBfL7fZrj",
        "outputId": "5484219a-5553-471b-ab08-b3692695f773"
      },
      "source": [
        "X_train_full"
      ],
      "execution_count": 10,
      "outputs": [
        {
          "output_type": "execute_result",
          "data": {
            "text/plain": [
              "array([[[0, 0, 0, ..., 0, 0, 0],\n",
              "        [0, 0, 0, ..., 0, 0, 0],\n",
              "        [0, 0, 0, ..., 0, 0, 0],\n",
              "        ...,\n",
              "        [0, 0, 0, ..., 0, 0, 0],\n",
              "        [0, 0, 0, ..., 0, 0, 0],\n",
              "        [0, 0, 0, ..., 0, 0, 0]],\n",
              "\n",
              "       [[0, 0, 0, ..., 0, 0, 0],\n",
              "        [0, 0, 0, ..., 0, 0, 0],\n",
              "        [0, 0, 0, ..., 0, 0, 0],\n",
              "        ...,\n",
              "        [0, 0, 0, ..., 0, 0, 0],\n",
              "        [0, 0, 0, ..., 0, 0, 0],\n",
              "        [0, 0, 0, ..., 0, 0, 0]],\n",
              "\n",
              "       [[0, 0, 0, ..., 0, 0, 0],\n",
              "        [0, 0, 0, ..., 0, 0, 0],\n",
              "        [0, 0, 0, ..., 0, 0, 0],\n",
              "        ...,\n",
              "        [0, 0, 0, ..., 0, 0, 0],\n",
              "        [0, 0, 0, ..., 0, 0, 0],\n",
              "        [0, 0, 0, ..., 0, 0, 0]],\n",
              "\n",
              "       ...,\n",
              "\n",
              "       [[0, 0, 0, ..., 0, 0, 0],\n",
              "        [0, 0, 0, ..., 0, 0, 0],\n",
              "        [0, 0, 0, ..., 0, 0, 0],\n",
              "        ...,\n",
              "        [0, 0, 0, ..., 0, 0, 0],\n",
              "        [0, 0, 0, ..., 0, 0, 0],\n",
              "        [0, 0, 0, ..., 0, 0, 0]],\n",
              "\n",
              "       [[0, 0, 0, ..., 0, 0, 0],\n",
              "        [0, 0, 0, ..., 0, 0, 0],\n",
              "        [0, 0, 0, ..., 0, 0, 0],\n",
              "        ...,\n",
              "        [0, 0, 0, ..., 0, 0, 0],\n",
              "        [0, 0, 0, ..., 0, 0, 0],\n",
              "        [0, 0, 0, ..., 0, 0, 0]],\n",
              "\n",
              "       [[0, 0, 0, ..., 0, 0, 0],\n",
              "        [0, 0, 0, ..., 0, 0, 0],\n",
              "        [0, 0, 0, ..., 0, 0, 0],\n",
              "        ...,\n",
              "        [0, 0, 0, ..., 0, 0, 0],\n",
              "        [0, 0, 0, ..., 0, 0, 0],\n",
              "        [0, 0, 0, ..., 0, 0, 0]]], dtype=uint8)"
            ]
          },
          "metadata": {
            "tags": []
          },
          "execution_count": 10
        }
      ]
    },
    {
      "cell_type": "code",
      "metadata": {
        "id": "XCoKiEa-fj1C"
      },
      "source": [
        "\"\"\"\n",
        "Scaling down all the pixels, by dividing by 256\n",
        "\"\"\"\n",
        "X_valid, X_train = X_train_full[:5000] / 255., X_train_full[5000:] / 255.\n",
        "y_valid, y_train = y_train_full[:5000], y_train_full[5000:]\n",
        "\n",
        "# scale the test set as well\n",
        "X_test = X_test / 255."
      ],
      "execution_count": 11,
      "outputs": []
    },
    {
      "cell_type": "code",
      "metadata": {
        "colab": {
          "base_uri": "https://localhost:8080/",
          "height": 282
        },
        "id": "01FaVKkJf-_C",
        "outputId": "edb0df69-3ad4-474c-c989-37e7ce5bbab4"
      },
      "source": [
        "plt.imshow(X_train[0],cmap='binary')"
      ],
      "execution_count": 17,
      "outputs": [
        {
          "output_type": "execute_result",
          "data": {
            "text/plain": [
              "<matplotlib.image.AxesImage at 0x7fe02f116438>"
            ]
          },
          "metadata": {
            "tags": []
          },
          "execution_count": 17
        },
        {
          "output_type": "display_data",
          "data": {
            "image/png": "[encoded data removed]",
            "text/plain": [
              "<Figure size 432x288 with 1 Axes>"
            ]
          },
          "metadata": {
            "tags": [],
            "needs_background": "light"
          }
        }
      ]
    },
    {
      "cell_type": "code",
      "metadata": {
        "colab": {
          "base_uri": "https://localhost:8080/",
          "height": 282
        },
        "id": "sf7sNAQ8gLC6",
        "outputId": "6455a6b0-7093-4a79-c589-d557a0cb3c5b"
      },
      "source": [
        "plt.imshow(X_train[250],cmap='binary')"
      ],
      "execution_count": 19,
      "outputs": [
        {
          "output_type": "execute_result",
          "data": {
            "text/plain": [
              "<matplotlib.image.AxesImage at 0x7fe02ed01240>"
            ]
          },
          "metadata": {
            "tags": []
          },
          "execution_count": 19
        },
        {
          "output_type": "display_data",
          "data": {
            "image/png": "[encoded data removed]",
            "text/plain": [
              "<Figure size 432x288 with 1 Axes>"
            ]
          },
          "metadata": {
            "tags": [],
            "needs_background": "light"
          }
        }
      ]
    },
    {
      "cell_type": "code",
      "metadata": {
        "colab": {
          "base_uri": "https://localhost:8080/",
          "height": 904
        },
        "id": "1o-hugrEgbz6",
        "outputId": "5e58c5c0-5ac5-40c7-b58e-ebe76dc5a0a7"
      },
      "source": [
        "plt.figure(figsize=(15,15))\n",
        "sns.heatmap(X_train[750], annot=True, cmap=\"binary\")"
      ],
      "execution_count": 23,
      "outputs": [
        {
          "output_type": "execute_result",
          "data": {
            "text/plain": [
              "<matplotlib.axes._subplots.AxesSubplot at 0x7fe0254882e8>"
            ]
          },
          "metadata": {
            "tags": []
          },
          "execution_count": 23
        },
        {
          "output_type": "display_data",
          "data": {
            "image/png": "[encoded data removed]",
            "text/plain": [
              "<Figure size 1080x1080 with 2 Axes>"
            ]
          },
          "metadata": {
            "tags": [],
            "needs_background": "light"
          }
        }
      ]
    },
    {
      "cell_type": "code",
      "metadata": {
        "colab": {
          "base_uri": "https://localhost:8080/"
        },
        "id": "o0_f5c9PhpUS",
        "outputId": "8112ff33-1f16-485a-b116-259019d03890"
      },
      "source": [
        "X_train.shape"
      ],
      "execution_count": 24,
      "outputs": [
        {
          "output_type": "execute_result",
          "data": {
            "text/plain": [
              "(55000, 28, 28)"
            ]
          },
          "metadata": {
            "tags": []
          },
          "execution_count": 24
        }
      ]
    },
    {
      "cell_type": "code",
      "metadata": {
        "colab": {
          "base_uri": "https://localhost:8080/"
        },
        "id": "nkHxWKYyiBoC",
        "outputId": "19de773f-4d6e-4945-a771-39f70683387b"
      },
      "source": [
        "X_test.shape"
      ],
      "execution_count": 26,
      "outputs": [
        {
          "output_type": "execute_result",
          "data": {
            "text/plain": [
              "(10000, 28, 28)"
            ]
          },
          "metadata": {
            "tags": []
          },
          "execution_count": 26
        }
      ]
    },
    {
      "cell_type": "code",
      "metadata": {
        "id": "LsA78LuHiIwC"
      },
      "source": [
        "\"\"\"\n",
        "Now we will creat he Artificial Neural Network\n",
        "\"\"\""
      ],
      "execution_count": null,
      "outputs": []
    },
    {
      "cell_type": "code",
      "metadata": {
        "id": "DY2dlAh5iU2E"
      },
      "source": [
        "Layers = [\n",
        "        tf.keras.layers.Flatten(input_shape=[28,28],name=\"Input_Layer\"),\n",
        "        tf.keras.layers.Dense(100,activation='relu',name='hidden_layer1'),\n",
        "        tf.keras.layers.Dense(10,activation='softmax',name=\"Output_layer\")\n",
        "        ]"
      ],
      "execution_count": 30,
      "outputs": []
    },
    {
      "cell_type": "code",
      "metadata": {
        "id": "vSPdbHimj5a5"
      },
      "source": [
        "\"\"\"\n",
        "Building the model\n",
        "\"\"\"\n",
        "model = tf.keras.models.Sequential(Layers)"
      ],
      "execution_count": 31,
      "outputs": []
    },
    {
      "cell_type": "code",
      "metadata": {
        "colab": {
          "base_uri": "https://localhost:8080/"
        },
        "id": "o952FJMbkOU5",
        "outputId": "0fcde6e2-449a-4259-8698-051cecf48188"
      },
      "source": [
        "model.layers"
      ],
      "execution_count": 32,
      "outputs": [
        {
          "output_type": "execute_result",
          "data": {
            "text/plain": [
              "[<tensorflow.python.keras.layers.core.Flatten at 0x7fe025840c88>,\n",
              " <tensorflow.python.keras.layers.core.Dense at 0x7fe02578d128>,\n",
              " <tensorflow.python.keras.layers.core.Dense at 0x7fe025700da0>]"
            ]
          },
          "metadata": {
            "tags": []
          },
          "execution_count": 32
        }
      ]
    },
    {
      "cell_type": "code",
      "metadata": {
        "colab": {
          "base_uri": "https://localhost:8080/"
        },
        "id": "2-jpz-ankW8J",
        "outputId": "224fd9bf-60f5-4d7d-aa85-aba283a6af85"
      },
      "source": [
        "model.summary()"
      ],
      "execution_count": 33,
      "outputs": [
        {
          "output_type": "stream",
          "text": [
            "Model: \"sequential\"\n",
            "_________________________________________________________________\n",
            "Layer (type)                 Output Shape              Param #   \n",
            "=================================================================\n",
            "Input_Layer (Flatten)        (None, 784)               0         \n",
            "_________________________________________________________________\n",
            "hidden_layer1 (Dense)        (None, 100)               78500     \n",
            "_________________________________________________________________\n",
            "Output_layer (Dense)         (None, 10)                1010      \n",
            "=================================================================\n",
            "Total params: 79,510\n",
            "Trainable params: 79,510\n",
            "Non-trainable params: 0\n",
            "_________________________________________________________________\n"
          ],
          "name": "stdout"
        }
      ]
    },
    {
      "cell_type": "code",
      "metadata": {
        "id": "sliK40s5kzZh"
      },
      "source": [
        "h1_layer = model.layers[1]"
      ],
      "execution_count": 34,
      "outputs": []
    },
    {
      "cell_type": "code",
      "metadata": {
        "colab": {
          "base_uri": "https://localhost:8080/",
          "height": 35
        },
        "id": "JbLmUB7_lsXD",
        "outputId": "9a1c4fda-0551-4914-e2e4-35734c4b63fc"
      },
      "source": [
        "h1_layer.name"
      ],
      "execution_count": 35,
      "outputs": [
        {
          "output_type": "execute_result",
          "data": {
            "application/vnd.google.colaboratory.intrinsic+json": {
              "type": "string"
            },
            "text/plain": [
              "'hidden_layer1'"
            ]
          },
          "metadata": {
            "tags": []
          },
          "execution_count": 35
        }
      ]
    },
    {
      "cell_type": "code",
      "metadata": {
        "colab": {
          "base_uri": "https://localhost:8080/"
        },
        "id": "esRwg1-ElvPa",
        "outputId": "f447159c-3da7-4728-d8d6-06156e8a62de"
      },
      "source": [
        "h1_layer.get_weights()"
      ],
      "execution_count": 39,
      "outputs": [
        {
          "output_type": "execute_result",
          "data": {
            "text/plain": [
              "[array([[-6.08306229e-02, -3.90107185e-02, -3.19856331e-02, ...,\n",
              "          5.11628389e-02,  7.32737184e-02, -4.72456962e-03],\n",
              "        [ 4.86122221e-02,  5.57603091e-02, -2.84969099e-02, ...,\n",
              "          7.79584646e-02, -7.50596300e-02, -3.73802409e-02],\n",
              "        [-7.12498128e-02, -6.13117740e-02, -3.70815806e-02, ...,\n",
              "         -1.86234713e-02,  3.79778445e-04, -6.72866926e-02],\n",
              "        ...,\n",
              "        [ 1.28475949e-02,  2.99146622e-02,  3.81970778e-02, ...,\n",
              "          4.47569638e-02, -8.88655335e-03, -6.93574548e-05],\n",
              "        [ 4.02139947e-02, -2.58314051e-02, -1.47809535e-02, ...,\n",
              "         -1.75773725e-02, -8.70612264e-03, -1.46647915e-02],\n",
              "        [-3.32096368e-02, -5.06634377e-02,  5.23611158e-03, ...,\n",
              "          2.34123543e-02,  4.54823375e-02,  4.36865389e-02]], dtype=float32),\n",
              " array([0., 0., 0., 0., 0., 0., 0., 0., 0., 0., 0., 0., 0., 0., 0., 0., 0.,\n",
              "        0., 0., 0., 0., 0., 0., 0., 0., 0., 0., 0., 0., 0., 0., 0., 0., 0.,\n",
              "        0., 0., 0., 0., 0., 0., 0., 0., 0., 0., 0., 0., 0., 0., 0., 0., 0.,\n",
              "        0., 0., 0., 0., 0., 0., 0., 0., 0., 0., 0., 0., 0., 0., 0., 0., 0.,\n",
              "        0., 0., 0., 0., 0., 0., 0., 0., 0., 0., 0., 0., 0., 0., 0., 0., 0.,\n",
              "        0., 0., 0., 0., 0., 0., 0., 0., 0., 0., 0., 0., 0., 0., 0.],\n",
              "       dtype=float32)]"
            ]
          },
          "metadata": {
            "tags": []
          },
          "execution_count": 39
        }
      ]
    },
    {
      "cell_type": "code",
      "metadata": {
        "id": "AdX7Yru5lzZK"
      },
      "source": [
        "weights, biases = h1_layer.get_weights()"
      ],
      "execution_count": 40,
      "outputs": []
    },
    {
      "cell_type": "code",
      "metadata": {
        "colab": {
          "base_uri": "https://localhost:8080/"
        },
        "id": "S6u4HqVqnO_-",
        "outputId": "12e3aa9b-b725-455e-e27d-596d1665fa35"
      },
      "source": [
        "weights.shape"
      ],
      "execution_count": 41,
      "outputs": [
        {
          "output_type": "execute_result",
          "data": {
            "text/plain": [
              "(784, 100)"
            ]
          },
          "metadata": {
            "tags": []
          },
          "execution_count": 41
        }
      ]
    },
    {
      "cell_type": "code",
      "metadata": {
        "id": "wMfOtITwnRE6"
      },
      "source": [
        "model.compile(\n",
        "    loss=tf.losses.sparse_categorical_crossentropy,\n",
        "    optimizer=tf.keras.optimizers.Adam(),\n",
        "    metrics = ['accuracy']\n",
        "              )"
      ],
      "execution_count": 45,
      "outputs": []
    },
    {
      "cell_type": "code",
      "metadata": {
        "id": "W215PXgboFsz"
      },
      "source": [
        "Epoch = 50"
      ],
      "execution_count": 46,
      "outputs": []
    },
    {
      "cell_type": "code",
      "metadata": {
        "colab": {
          "base_uri": "https://localhost:8080/"
        },
        "id": "xLn6Qg77oY4r",
        "outputId": "d7bf71ca-85fa-4636-b6ae-b42bb608efc8"
      },
      "source": [
        "history = model.fit(X_train,y_train,epochs=Epoch,validation_data=(X_valid,y_valid))"
      ],
      "execution_count": 47,
      "outputs": [
        {
          "output_type": "stream",
          "text": [
            "Epoch 1/50\n",
            "1719/1719 [==============================] - 4s 2ms/step - loss: 0.2864 - accuracy: 0.9184 - val_loss: 0.1484 - val_accuracy: 0.9572\n",
            "Epoch 2/50\n",
            "1719/1719 [==============================] - 3s 2ms/step - loss: 0.1286 - accuracy: 0.9622 - val_loss: 0.1031 - val_accuracy: 0.9710\n",
            "Epoch 3/50\n",
            "1719/1719 [==============================] - 3s 2ms/step - loss: 0.0912 - accuracy: 0.9729 - val_loss: 0.0893 - val_accuracy: 0.9744\n",
            "Epoch 4/50\n",
            "1719/1719 [==============================] - 3s 2ms/step - loss: 0.0706 - accuracy: 0.9788 - val_loss: 0.0893 - val_accuracy: 0.9706\n",
            "Epoch 5/50\n",
            "1719/1719 [==============================] - 3s 2ms/step - loss: 0.0556 - accuracy: 0.9830 - val_loss: 0.0765 - val_accuracy: 0.9780\n",
            "Epoch 6/50\n",
            "1719/1719 [==============================] - 3s 2ms/step - loss: 0.0449 - accuracy: 0.9861 - val_loss: 0.0747 - val_accuracy: 0.9764\n",
            "Epoch 7/50\n",
            "1719/1719 [==============================] - 3s 2ms/step - loss: 0.0370 - accuracy: 0.9884 - val_loss: 0.0724 - val_accuracy: 0.9790\n",
            "Epoch 8/50\n",
            "1719/1719 [==============================] - 3s 2ms/step - loss: 0.0295 - accuracy: 0.9913 - val_loss: 0.0727 - val_accuracy: 0.9788\n",
            "Epoch 9/50\n",
            "1719/1719 [==============================] - 3s 2ms/step - loss: 0.0258 - accuracy: 0.9919 - val_loss: 0.0792 - val_accuracy: 0.9788\n",
            "Epoch 10/50\n",
            "1719/1719 [==============================] - 4s 2ms/step - loss: 0.0201 - accuracy: 0.9940 - val_loss: 0.0820 - val_accuracy: 0.9772\n",
            "Epoch 11/50\n",
            "1719/1719 [==============================] - 4s 2ms/step - loss: 0.0173 - accuracy: 0.9949 - val_loss: 0.0743 - val_accuracy: 0.9800\n",
            "Epoch 12/50\n",
            "1719/1719 [==============================] - 4s 2ms/step - loss: 0.0151 - accuracy: 0.9956 - val_loss: 0.0792 - val_accuracy: 0.9788\n",
            "Epoch 13/50\n",
            "1719/1719 [==============================] - 4s 2ms/step - loss: 0.0130 - accuracy: 0.9958 - val_loss: 0.0805 - val_accuracy: 0.9790\n",
            "Epoch 14/50\n",
            "1719/1719 [==============================] - 4s 2ms/step - loss: 0.0113 - accuracy: 0.9967 - val_loss: 0.0812 - val_accuracy: 0.9782\n",
            "Epoch 15/50\n",
            "1719/1719 [==============================] - 4s 2ms/step - loss: 0.0101 - accuracy: 0.9970 - val_loss: 0.0878 - val_accuracy: 0.9784\n",
            "Epoch 16/50\n",
            "1719/1719 [==============================] - 3s 2ms/step - loss: 0.0095 - accuracy: 0.9970 - val_loss: 0.0872 - val_accuracy: 0.9788\n",
            "Epoch 17/50\n",
            "1719/1719 [==============================] - 3s 2ms/step - loss: 0.0076 - accuracy: 0.9978 - val_loss: 0.1058 - val_accuracy: 0.9746\n",
            "Epoch 18/50\n",
            "1719/1719 [==============================] - 3s 2ms/step - loss: 0.0087 - accuracy: 0.9974 - val_loss: 0.1050 - val_accuracy: 0.9754\n",
            "Epoch 19/50\n",
            "1719/1719 [==============================] - 3s 2ms/step - loss: 0.0052 - accuracy: 0.9987 - val_loss: 0.0916 - val_accuracy: 0.9778\n",
            "Epoch 20/50\n",
            "1719/1719 [==============================] - 3s 2ms/step - loss: 0.0066 - accuracy: 0.9979 - val_loss: 0.0999 - val_accuracy: 0.9786\n",
            "Epoch 21/50\n",
            "1719/1719 [==============================] - 4s 2ms/step - loss: 0.0047 - accuracy: 0.9985 - val_loss: 0.1024 - val_accuracy: 0.9770\n",
            "Epoch 22/50\n",
            "1719/1719 [==============================] - 3s 2ms/step - loss: 0.0062 - accuracy: 0.9982 - val_loss: 0.1027 - val_accuracy: 0.9794\n",
            "Epoch 23/50\n",
            "1719/1719 [==============================] - 3s 2ms/step - loss: 0.0057 - accuracy: 0.9981 - val_loss: 0.1054 - val_accuracy: 0.9784\n",
            "Epoch 24/50\n",
            "1719/1719 [==============================] - 3s 2ms/step - loss: 0.0056 - accuracy: 0.9984 - val_loss: 0.1047 - val_accuracy: 0.9798\n",
            "Epoch 25/50\n",
            "1719/1719 [==============================] - 3s 2ms/step - loss: 0.0046 - accuracy: 0.9987 - val_loss: 0.1084 - val_accuracy: 0.9790\n",
            "Epoch 26/50\n",
            "1719/1719 [==============================] - 4s 2ms/step - loss: 0.0039 - accuracy: 0.9989 - val_loss: 0.1298 - val_accuracy: 0.9742\n",
            "Epoch 27/50\n",
            "1719/1719 [==============================] - 3s 2ms/step - loss: 0.0054 - accuracy: 0.9981 - val_loss: 0.1091 - val_accuracy: 0.9788\n",
            "Epoch 28/50\n",
            "1719/1719 [==============================] - 3s 2ms/step - loss: 0.0044 - accuracy: 0.9987 - val_loss: 0.1137 - val_accuracy: 0.9790\n",
            "Epoch 29/50\n",
            "1719/1719 [==============================] - 3s 2ms/step - loss: 0.0042 - accuracy: 0.9985 - val_loss: 0.1204 - val_accuracy: 0.9784\n",
            "Epoch 30/50\n",
            "1719/1719 [==============================] - 4s 2ms/step - loss: 0.0050 - accuracy: 0.9983 - val_loss: 0.1092 - val_accuracy: 0.9772\n",
            "Epoch 31/50\n",
            "1719/1719 [==============================] - 3s 2ms/step - loss: 0.0022 - accuracy: 0.9994 - val_loss: 0.1305 - val_accuracy: 0.9764\n",
            "Epoch 32/50\n",
            "1719/1719 [==============================] - 4s 2ms/step - loss: 0.0056 - accuracy: 0.9981 - val_loss: 0.1297 - val_accuracy: 0.9794\n",
            "Epoch 33/50\n",
            "1719/1719 [==============================] - 4s 2ms/step - loss: 0.0035 - accuracy: 0.9990 - val_loss: 0.1114 - val_accuracy: 0.9786\n",
            "Epoch 34/50\n",
            "1719/1719 [==============================] - 3s 2ms/step - loss: 0.0017 - accuracy: 0.9996 - val_loss: 0.1400 - val_accuracy: 0.9750\n",
            "Epoch 35/50\n",
            "1719/1719 [==============================] - 4s 2ms/step - loss: 0.0047 - accuracy: 0.9985 - val_loss: 0.1143 - val_accuracy: 0.9790\n",
            "Epoch 36/50\n",
            "1719/1719 [==============================] - 4s 2ms/step - loss: 0.0017 - accuracy: 0.9996 - val_loss: 0.1313 - val_accuracy: 0.9800\n",
            "Epoch 37/50\n",
            "1719/1719 [==============================] - 4s 2ms/step - loss: 0.0042 - accuracy: 0.9986 - val_loss: 0.1270 - val_accuracy: 0.9766\n",
            "Epoch 38/50\n",
            "1719/1719 [==============================] - 3s 2ms/step - loss: 0.0025 - accuracy: 0.9992 - val_loss: 0.1303 - val_accuracy: 0.9792\n",
            "Epoch 39/50\n",
            "1719/1719 [==============================] - 4s 2ms/step - loss: 0.0031 - accuracy: 0.9991 - val_loss: 0.1500 - val_accuracy: 0.9782\n",
            "Epoch 40/50\n",
            "1719/1719 [==============================] - 4s 2ms/step - loss: 0.0029 - accuracy: 0.9992 - val_loss: 0.1492 - val_accuracy: 0.9786\n",
            "Epoch 41/50\n",
            "1719/1719 [==============================] - 4s 2ms/step - loss: 0.0044 - accuracy: 0.9986 - val_loss: 0.1393 - val_accuracy: 0.9790\n",
            "Epoch 42/50\n",
            "1719/1719 [==============================] - 3s 2ms/step - loss: 0.0034 - accuracy: 0.9990 - val_loss: 0.1222 - val_accuracy: 0.9800\n",
            "Epoch 43/50\n",
            "1719/1719 [==============================] - 4s 2ms/step - loss: 0.0016 - accuracy: 0.9995 - val_loss: 0.1464 - val_accuracy: 0.9774\n",
            "Epoch 44/50\n",
            "1719/1719 [==============================] - 4s 2ms/step - loss: 0.0038 - accuracy: 0.9987 - val_loss: 0.1432 - val_accuracy: 0.9808\n",
            "Epoch 45/50\n",
            "1719/1719 [==============================] - 3s 2ms/step - loss: 0.0039 - accuracy: 0.9989 - val_loss: 0.1507 - val_accuracy: 0.9766\n",
            "Epoch 46/50\n",
            "1719/1719 [==============================] - 3s 2ms/step - loss: 0.0023 - accuracy: 0.9992 - val_loss: 0.1288 - val_accuracy: 0.9792\n",
            "Epoch 47/50\n",
            "1719/1719 [==============================] - 3s 2ms/step - loss: 0.0018 - accuracy: 0.9995 - val_loss: 0.1569 - val_accuracy: 0.9754\n",
            "Epoch 48/50\n",
            "1719/1719 [==============================] - 3s 2ms/step - loss: 0.0043 - accuracy: 0.9986 - val_loss: 0.1542 - val_accuracy: 0.9788\n",
            "Epoch 49/50\n",
            "1719/1719 [==============================] - 4s 2ms/step - loss: 9.1686e-04 - accuracy: 0.9998 - val_loss: 0.1340 - val_accuracy: 0.9802\n",
            "Epoch 50/50\n",
            "1719/1719 [==============================] - 4s 2ms/step - loss: 0.0039 - accuracy: 0.9987 - val_loss: 0.1327 - val_accuracy: 0.9808\n"
          ],
          "name": "stdout"
        }
      ]
    },
    {
      "cell_type": "code",
      "metadata": {
        "id": "lfAX2mMno0pt"
      },
      "source": [
        "model.save(\"HDR.h5\")"
      ],
      "execution_count": 48,
      "outputs": []
    },
    {
      "cell_type": "code",
      "metadata": {
        "colab": {
          "base_uri": "https://localhost:8080/"
        },
        "id": "b9CpxchBp46p",
        "outputId": "2aff50d2-b391-46b7-fb58-1621d6dbab94"
      },
      "source": [
        "history.params"
      ],
      "execution_count": 49,
      "outputs": [
        {
          "output_type": "execute_result",
          "data": {
            "text/plain": [
              "{'epochs': 50, 'steps': 1719, 'verbose': 1}"
            ]
          },
          "metadata": {
            "tags": []
          },
          "execution_count": 49
        }
      ]
    },
    {
      "cell_type": "code",
      "metadata": {
        "colab": {
          "base_uri": "https://localhost:8080/",
          "height": 204
        },
        "id": "StBqcyjjq3cg",
        "outputId": "c4c7aa6f-8cd8-456d-b4f4-cdabe01ea7dd"
      },
      "source": [
        "pd.DataFrame(history.history).head()"
      ],
      "execution_count": 53,
      "outputs": [
        {
          "output_type": "execute_result",
          "data": {
            "text/html": [
              "<div>\n",
              "<style scoped>\n",
              "    .dataframe tbody tr th:only-of-type {\n",
              "        vertical-align: middle;\n",
              "    }\n",
              "\n",
              "    .dataframe tbody tr th {\n",
              "        vertical-align: top;\n",
              "    }\n",
              "\n",
              "    .dataframe thead th {\n",
              "        text-align: right;\n",
              "    }\n",
              "</style>\n",
              "<table border=\"1\" class=\"dataframe\">\n",
              "  <thead>\n",
              "    <tr style=\"text-align: right;\">\n",
              "      <th></th>\n",
              "      <th>loss</th>\n",
              "      <th>accuracy</th>\n",
              "      <th>val_loss</th>\n",
              "      <th>val_accuracy</th>\n",
              "    </tr>\n",
              "  </thead>\n",
              "  <tbody>\n",
              "    <tr>\n",
              "      <th>0</th>\n",
              "      <td>0.286358</td>\n",
              "      <td>0.918382</td>\n",
              "      <td>0.148385</td>\n",
              "      <td>0.9572</td>\n",
              "    </tr>\n",
              "    <tr>\n",
              "      <th>1</th>\n",
              "      <td>0.128581</td>\n",
              "      <td>0.962182</td>\n",
              "      <td>0.103087</td>\n",
              "      <td>0.9710</td>\n",
              "    </tr>\n",
              "    <tr>\n",
              "      <th>2</th>\n",
              "      <td>0.091216</td>\n",
              "      <td>0.972855</td>\n",
              "      <td>0.089318</td>\n",
              "      <td>0.9744</td>\n",
              "    </tr>\n",
              "    <tr>\n",
              "      <th>3</th>\n",
              "      <td>0.070574</td>\n",
              "      <td>0.978800</td>\n",
              "      <td>0.089309</td>\n",
              "      <td>0.9706</td>\n",
              "    </tr>\n",
              "    <tr>\n",
              "      <th>4</th>\n",
              "      <td>0.055566</td>\n",
              "      <td>0.983036</td>\n",
              "      <td>0.076501</td>\n",
              "      <td>0.9780</td>\n",
              "    </tr>\n",
              "  </tbody>\n",
              "</table>\n",
              "</div>"
            ],
            "text/plain": [
              "       loss  accuracy  val_loss  val_accuracy\n",
              "0  0.286358  0.918382  0.148385        0.9572\n",
              "1  0.128581  0.962182  0.103087        0.9710\n",
              "2  0.091216  0.972855  0.089318        0.9744\n",
              "3  0.070574  0.978800  0.089309        0.9706\n",
              "4  0.055566  0.983036  0.076501        0.9780"
            ]
          },
          "metadata": {
            "tags": []
          },
          "execution_count": 53
        }
      ]
    },
    {
      "cell_type": "code",
      "metadata": {
        "colab": {
          "base_uri": "https://localhost:8080/",
          "height": 487
        },
        "id": "LojXwHPoq6Fg",
        "outputId": "cb010a78-98d5-4565-f9a0-064e8abe34f8"
      },
      "source": [
        "pd.DataFrame(history.history).plot(figsize=(10,8))\n",
        "plt.grid(True)\n",
        "plt.gca().set_ylim(0, 1)\n",
        "plt.show()"
      ],
      "execution_count": 59,
      "outputs": [
        {
          "output_type": "display_data",
          "data": {
            "image/png": "[encoded data removed]",
            "text/plain": [
              "<Figure size 720x576 with 1 Axes>"
            ]
          },
          "metadata": {
            "tags": [],
            "needs_background": "light"
          }
        }
      ]
    },
    {
      "cell_type": "code",
      "metadata": {
        "id": "JFEQkWqGsMcB"
      },
      "source": [
        "reloaded_model = tf.keras.models.load_model('HDR.h5')"
      ],
      "execution_count": 69,
      "outputs": []
    },
    {
      "cell_type": "code",
      "metadata": {
        "colab": {
          "base_uri": "https://localhost:8080/"
        },
        "id": "8T_P4Xdxszb_",
        "outputId": "d8eb2b72-b285-433a-e92d-51fb563b4d9d"
      },
      "source": [
        "model.evaluate(X_test,y_test)"
      ],
      "execution_count": 70,
      "outputs": [
        {
          "output_type": "stream",
          "text": [
            "313/313 [==============================] - 1s 2ms/step - loss: 0.1427 - accuracy: 0.9803\n"
          ],
          "name": "stdout"
        },
        {
          "output_type": "execute_result",
          "data": {
            "text/plain": [
              "[0.14274154603481293, 0.9803000092506409]"
            ]
          },
          "metadata": {
            "tags": []
          },
          "execution_count": 70
        }
      ]
    },
    {
      "cell_type": "code",
      "metadata": {
        "id": "_cAO6rwVumci"
      },
      "source": [
        "new_test = X_test[100:105]"
      ],
      "execution_count": 90,
      "outputs": []
    },
    {
      "cell_type": "code",
      "metadata": {
        "colab": {
          "base_uri": "https://localhost:8080/",
          "height": 1000
        },
        "id": "vJ30reUju10o",
        "outputId": "d9aacc20-d004-497a-9ade-00bb62d4d3df"
      },
      "source": [
        "print(\"Actual Images\")\n",
        "for img in new_test:\n",
        "  plt.imshow(img,cmap='binary')\n",
        "  plt.show()"
      ],
      "execution_count": 91,
      "outputs": [
        {
          "output_type": "stream",
          "text": [
            "Actual Images\n"
          ],
          "name": "stdout"
        },
        {
          "output_type": "display_data",
          "data": {
            "image/png": "[encoded data removed]",
            "text/plain": [
              "<Figure size 432x288 with 1 Axes>"
            ]
          },
          "metadata": {
            "tags": [],
            "needs_background": "light"
          }
        },
        {
          "output_type": "display_data",
          "data": {
            "image/png": "[encoded data removed]",
            "text/plain": [
              "<Figure size 432x288 with 1 Axes>"
            ]
          },
          "metadata": {
            "tags": [],
            "needs_background": "light"
          }
        },
        {
          "output_type": "display_data",
          "data": {
            "image/png": "[encoded data removed]",
            "text/plain": [
              "<Figure size 432x288 with 1 Axes>"
            ]
          },
          "metadata": {
            "tags": [],
            "needs_background": "light"
          }
        },
        {
          "output_type": "display_data",
          "data": {
            "image/png": "[encoded data removed]",
            "text/plain": [
              "<Figure size 432x288 with 1 Axes>"
            ]
          },
          "metadata": {
            "tags": [],
            "needs_background": "light"
          }
        },
        {
          "output_type": "display_data",
          "data": {
            "image/png": "[encoded data removed]",
            "text/plain": [
              "<Figure size 432x288 with 1 Axes>"
            ]
          },
          "metadata": {
            "tags": [],
            "needs_background": "light"
          }
        }
      ]
    },
    {
      "cell_type": "code",
      "metadata": {
        "colab": {
          "base_uri": "https://localhost:8080/"
        },
        "id": "Ib2Gl4zsvlR0",
        "outputId": "14050d5d-0aca-4134-e04e-3009519d8fc9"
      },
      "source": [
        "print(\"Our model Predictions\")\n",
        "np.argmax(model.predict(new_test),axis=-1)"
      ],
      "execution_count": 92,
      "outputs": [
        {
          "output_type": "stream",
          "text": [
            "Our model Predictions\n"
          ],
          "name": "stdout"
        },
        {
          "output_type": "execute_result",
          "data": {
            "text/plain": [
              "array([6, 0, 5, 4, 9])"
            ]
          },
          "metadata": {
            "tags": []
          },
          "execution_count": 92
        }
      ]
    },
    {
      "cell_type": "code",
      "metadata": {
        "id": "C0N1Q1B9wBuh"
      },
      "source": [
        ""
      ],
      "execution_count": null,
      "outputs": []
    }
  ]
}